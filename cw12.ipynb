{
 "cells": [
  {
   "cell_type": "code",
   "execution_count": 1,
   "id": "8358c331",
   "metadata": {},
   "outputs": [],
   "source": [
    "import requests\n",
    "\n",
    "url = 'http://DESKTOP-4A7E8OM:8081/fmedatadownload/Dashboards/cw10.fmw?email=peter141050%40gmail.com&password=aaa&client_email=peter141050%40gmail.com&county=powiat%20zdu%C5%84skowolski&cloud_coverage=50&starting_date=20230723000000&ending_date=20230730000000&SourceDataset_SHAPEFILE=%22D%3A%5CStudia%5Cpowiaty%5Cpowiaty.shp%22&DestDataset_GEOTIFF=D%3A%5CStudia%5CSemestrV%5Cbazy%5Ccw10&opt_showresult=false&opt_servicemode=sync'\n",
    "head = {'Authorization': 'fmetoken token=add71aa384ec7b1dea154381257945b3938a9770'}\n",
    "\n",
    "x = requests.post(url, headers = head)\n"
   ]
  },
  {
   "cell_type": "code",
   "execution_count": 2,
   "id": "1ee5d784",
   "metadata": {},
   "outputs": [
    {
     "name": "stdout",
     "output_type": "stream",
     "text": [
      "<html>\r\n",
      "    <head>\r\n",
      "        <META http-equiv=\"Content-Type\" content=\"text/html; charset=UTF-8\">\r\n",
      "        <meta http-equiv=\"Content-Type\" content=\"text/html; charset=windows-1252\">\r\n",
      "        <link rel=\"shortcut icon\" href=\"/fmedatadownload/images/favicon-fme-flow.svg\">\r\n",
      "        <link rel=\"stylesheet\" type=\"text/css\" href=\"/fmedatadownload/styles/formatting.css\">\r\n",
      "        <link rel=\"stylesheet\" type=\"text/css\" href=\"/fmedatadownload/styles/formatting-layer2.css\">\r\n",
      "        <link rel=\"stylesheet\" type=\"text/css\" href=\"/fmejobsubmitter/styles/fontello.css\">\r\n",
      "        <title>FME Data Download Service</title>\r\n",
      "    </head>\r\n",
      "    <body>\r\n",
      "        <div id=\"container\">\r\n",
      "            <div id=\"top_banner\">\r\n",
      "                <div id=\"utility_links\"></div>\r\n",
      "            </div>\r\n",
      "            <div id=\"main_container\">\r\n",
      "                <div id=\"main_content\">\r\n",
      "                    <div id=\"inner_content\">\r\n",
      "                        <div>\r\n",
      "                            <center>\r\n",
      "                                <i class=\"thin-icon success_header fa-2x icon-ok-circled2\"></i>\r\n",
      "                                <h1 style=\"display: inline;\">FME Data Download Service Completed Successfully </h1>\r\n",
      "                            </center>\r\n",
      "                        </div>\r\n",
      "                        <p>Please click the following link to download the result of your transformation</p>\r\n",
      "                        <p>\r\n",
      "                            <a href=\"http://DESKTOP-4A7E8OM:8081/fmedatadownload/results/FME_79041C23_1705698928164_20056.zip\">http://DESKTOP-4A7E8OM:8081/fmedatadownload/results/FME_79041C23_1705698928164_20056.zip</a>\r\n",
      "                        </p>\r\n",
      "                    </div>\r\n",
      "                </div>\r\n",
      "            </div>\r\n",
      "        </div>\r\n",
      "        <div id=\"navigation\"></div>\r\n",
      "        <div id=\"logo\">\r\n",
      "            <img src=\"/fmedatadownload/images/Logo-FME-Flow-White-Text.svg\" class=\"safe_logo\" style=\"height: 1.5em; vertical-align:middle\" border=\"0\" alt=\"FME Server\">\r\n",
      "        </div>\r\n",
      "    </body>\r\n",
      "</html>\r\n",
      "\n"
     ]
    }
   ],
   "source": [
    "print(x.text)"
   ]
  },
  {
   "cell_type": "code",
   "execution_count": null,
   "id": "6c0aa75b",
   "metadata": {},
   "outputs": [],
   "source": []
  }
 ],
 "metadata": {
  "kernelspec": {
   "display_name": "Python 3 (ipykernel)",
   "language": "python",
   "name": "python3"
  },
  "language_info": {
   "codemirror_mode": {
    "name": "ipython",
    "version": 3
   },
   "file_extension": ".py",
   "mimetype": "text/x-python",
   "name": "python",
   "nbconvert_exporter": "python",
   "pygments_lexer": "ipython3",
   "version": "3.9.16"
  }
 },
 "nbformat": 4,
 "nbformat_minor": 5
}
